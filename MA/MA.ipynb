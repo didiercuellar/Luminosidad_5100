{
 "cells": [
  {
   "cell_type": "code",
   "execution_count": 7,
   "metadata": {},
   "outputs": [],
   "source": [
    "import pandas as pd \n",
    "import numpy as np \n",
    "import scipy.stats as st \n",
    "from scipy.interpolate import interp1d\n",
    "from matplotlib import pyplot as plt \n",
    "import math\n",
    "import seaborn as seabornInstance \n",
    "import statistics as stats\n",
    "from sklearn.linear_model import LinearRegression\n",
    "from sklearn.metrics import mean_squared_error, r2_score\n",
    "import statsmodels.api as sm\n",
    "from sklearn.model_selection import train_test_split"
   ]
  },
  {
   "cell_type": "code",
   "execution_count": 2,
   "metadata": {},
   "outputs": [
    {
     "name": "stdout",
     "output_type": "stream",
     "text": [
      "0.3167700644927664\n",
      "               A              B         C        D\n",
      "0   5.759161e-26   4.936801e+36  45.32733  0.31478\n",
      "1   1.404707e-33  4.984639e+123  44.51848  0.07224\n",
      "2   7.385841e-37   1.149998e+99  44.32612  0.01430\n",
      "3   7.385841e-37   1.149998e+99  44.69770  0.00526\n",
      "4   2.265837e-24   7.124603e+86  44.30242  0.01505\n",
      "..           ...            ...       ...      ...\n",
      "65  1.724288e-29   6.596538e+18  44.54921  0.06313\n",
      "66  8.711623e-21   1.539458e+65  44.65970  0.01427\n",
      "67  1.373961e-53  6.769055e+147  44.79900  0.00287\n",
      "68  3.704462e-20   1.616379e+32  44.18964  0.16066\n",
      "69  4.605640e-50   2.134114e+75  44.25669  0.01856\n",
      "\n",
      "[67 rows x 4 columns]\n"
     ]
    }
   ],
   "source": [
    "data=pd.read_csv('MA_U.csv',header=0,)\n",
    "data = data.dropna(how='any')#quita los valores nan del documento\n",
    "y=data.iloc[:,0]\n",
    "w=data.iloc[:,1]\n",
    "x=data.iloc[:,2]\n",
    "z=data.iloc[:,3]\n",
    "print(stats.stdev(x))\n",
    "print(data)"
   ]
  },
  {
   "cell_type": "code",
   "execution_count": 3,
   "metadata": {},
   "outputs": [
    {
     "data": {
      "text/html": [
       "<div>\n",
       "<style scoped>\n",
       "    .dataframe tbody tr th:only-of-type {\n",
       "        vertical-align: middle;\n",
       "    }\n",
       "\n",
       "    .dataframe tbody tr th {\n",
       "        vertical-align: top;\n",
       "    }\n",
       "\n",
       "    .dataframe thead th {\n",
       "        text-align: right;\n",
       "    }\n",
       "</style>\n",
       "<table border=\"1\" class=\"dataframe\">\n",
       "  <thead>\n",
       "    <tr style=\"text-align: right;\">\n",
       "      <th></th>\n",
       "      <th>A</th>\n",
       "      <th>B</th>\n",
       "      <th>C</th>\n",
       "      <th>D</th>\n",
       "    </tr>\n",
       "  </thead>\n",
       "  <tbody>\n",
       "    <tr>\n",
       "      <th>count</th>\n",
       "      <td>6.700000e+01</td>\n",
       "      <td>6.700000e+01</td>\n",
       "      <td>67.000000</td>\n",
       "      <td>67.000000</td>\n",
       "    </tr>\n",
       "    <tr>\n",
       "      <th>mean</th>\n",
       "      <td>1.100131e-11</td>\n",
       "      <td>1.688979e+149</td>\n",
       "      <td>44.574503</td>\n",
       "      <td>0.053932</td>\n",
       "    </tr>\n",
       "    <tr>\n",
       "      <th>std</th>\n",
       "      <td>5.172267e-11</td>\n",
       "      <td>1.375269e+150</td>\n",
       "      <td>0.316770</td>\n",
       "      <td>0.058286</td>\n",
       "    </tr>\n",
       "    <tr>\n",
       "      <th>min</th>\n",
       "      <td>3.087104e-59</td>\n",
       "      <td>5.472271e+04</td>\n",
       "      <td>44.084260</td>\n",
       "      <td>0.001460</td>\n",
       "    </tr>\n",
       "    <tr>\n",
       "      <th>25%</th>\n",
       "      <td>6.016877e-35</td>\n",
       "      <td>4.223706e+59</td>\n",
       "      <td>44.324415</td>\n",
       "      <td>0.014285</td>\n",
       "    </tr>\n",
       "    <tr>\n",
       "      <th>50%</th>\n",
       "      <td>2.306058e-29</td>\n",
       "      <td>6.848611e+82</td>\n",
       "      <td>44.541830</td>\n",
       "      <td>0.031930</td>\n",
       "    </tr>\n",
       "    <tr>\n",
       "      <th>75%</th>\n",
       "      <td>2.287812e-20</td>\n",
       "      <td>7.950733e+102</td>\n",
       "      <td>44.762375</td>\n",
       "      <td>0.069565</td>\n",
       "    </tr>\n",
       "    <tr>\n",
       "      <th>max</th>\n",
       "      <td>2.913859e-10</td>\n",
       "      <td>1.125783e+151</td>\n",
       "      <td>45.679790</td>\n",
       "      <td>0.314780</td>\n",
       "    </tr>\n",
       "  </tbody>\n",
       "</table>\n",
       "</div>"
      ],
      "text/plain": [
       "                  A              B          C          D\n",
       "count  6.700000e+01   6.700000e+01  67.000000  67.000000\n",
       "mean   1.100131e-11  1.688979e+149  44.574503   0.053932\n",
       "std    5.172267e-11  1.375269e+150   0.316770   0.058286\n",
       "min    3.087104e-59   5.472271e+04  44.084260   0.001460\n",
       "25%    6.016877e-35   4.223706e+59  44.324415   0.014285\n",
       "50%    2.306058e-29   6.848611e+82  44.541830   0.031930\n",
       "75%    2.287812e-20  7.950733e+102  44.762375   0.069565\n",
       "max    2.913859e-10  1.125783e+151  45.679790   0.314780"
      ]
     },
     "execution_count": 3,
     "metadata": {},
     "output_type": "execute_result"
    }
   ],
   "source": [
    "data.describe()"
   ]
  },
  {
   "cell_type": "code",
   "execution_count": 4,
   "metadata": {},
   "outputs": [
    {
     "data": {
      "image/png": "[encoded data removed]",
      "text/plain": [
       "<Figure size 432x288 with 2 Axes>"
      ]
     },
     "metadata": {
      "needs_background": "light"
     },
     "output_type": "display_data"
    }
   ],
   "source": [
    "corr = data.set_index('B').corr()\n",
    "sm.graphics.plot_corr(corr, xnames=list(corr.columns))\n",
    "plt.show()"
   ]
  },
  {
   "cell_type": "code",
   "execution_count": 5,
   "metadata": {},
   "outputs": [
    {
     "name": "stdout",
     "output_type": "stream",
     "text": [
      "pendiente b1  -1.042310188728629e-11\n",
      "intercepción b0 is 4.756059038722384e-10\n"
     ]
    },
    {
     "data": {
      "image/png": "[encoded data removed]",
      "text/plain": [
       "<Figure size 432x288 with 1 Axes>"
      ]
     },
     "metadata": {
      "needs_background": "light"
     },
     "output_type": "display_data"
    }
   ],
   "source": [
    "n = np.size(x)\n",
    "x_mean = np.mean(x)\n",
    "y_mean = np.mean(y)\n",
    "x_mean,y_mean\n",
    "  \n",
    "Sxy = np.sum(x*y)- n*x_mean*y_mean\n",
    "Sxx = np.sum(x*x)-n*x_mean*x_mean\n",
    "  \n",
    "b1 = Sxy/Sxx\n",
    "b0 = y_mean-b1*x_mean\n",
    "print('pendiente b1 ', b1)\n",
    "print('intercepción b0 is', b0)\n",
    "  \n",
    "plt.scatter(x,y)\n",
    "xerror = z\n",
    "plt.errorbar(x,y,xerr=xerror, fmt = ' ' , ecolor='blue')\n",
    "plt.title(\"Luminosidad_5100\")\n",
    "\n",
    "y_pred = b1 * x + b0\n",
    "  \n",
    "plt.scatter(x, y, color = 'red')\n",
    "plt.plot(x, y_pred, color = 'green')\n",
    "plt.xlabel('erg/seg')\n",
    "plt.ylabel('ma_U')\n",
    "plt.savefig(\"Luminosidad_5100_ma_U.pdf\")"
   ]
  },
  {
   "cell_type": "code",
   "execution_count": 8,
   "metadata": {},
   "outputs": [
    {
     "name": "stderr",
     "output_type": "stream",
     "text": [
      "/home/didier/.local/lib/python3.6/site-packages/seaborn/distributions.py:2557: FutureWarning: `distplot` is a deprecated function and will be removed in a future version. Please adapt your code to use either `displot` (a figure-level function with similar flexibility) or `histplot` (an axes-level function for histograms).\n",
      "  warnings.warn(msg, FutureWarning)\n"
     ]
    },
    {
     "data": {
      "text/plain": [
       "Text(0.5, 0, 'erg/seg')"
      ]
     },
     "execution_count": 8,
     "metadata": {},
     "output_type": "execute_result"
    },
    {
     "data": {
      "image/png": "[encoded data removed]",
      "text/plain": [
       "<Figure size 1080x720 with 1 Axes>"
      ]
     },
     "metadata": {
      "needs_background": "light"
     },
     "output_type": "display_data"
    }
   ],
   "source": [
    "plt.figure(figsize=(15,10))\n",
    "plt.tight_layout()\n",
    "seabornInstance.distplot(data['C'])\n",
    "plt.xlabel('erg/seg')"
   ]
  },
  {
   "cell_type": "code",
   "execution_count": 38,
   "metadata": {},
   "outputs": [
    {
     "name": "stdout",
     "output_type": "stream",
     "text": [
      "Pendiente : [[0.13232161]\n",
      " [1.        ]]\n",
      "Intercepción: [-5.81082218  0.        ]\n",
      "Errorcuadratico medio : 0.14173816113134063\n",
      "Raiz del error cuadratico medio:  0.37648128921812385\n",
      " Coeficiente de determinacion R2 :  0.5030342144629198\n"
     ]
    }
   ],
   "source": [
    "x=np.array(data.iloc[:,1:-1])\n",
    "y=np.array(data.iloc[:,:-1])\n",
    "x = x.reshape(-1,1)\n",
    "regression_model = LinearRegression()\n",
    "regression_model.fit(x, y)\n",
    "y_predicted = regression_model.predict(x)\n",
    "mse=mean_squared_error(y,y_predicted)\n",
    "rmse = np.sqrt(mean_squared_error(y, y_predicted))\n",
    "r2 = r2_score(y, y_predicted)\n",
    "print('Pendiente :' ,regression_model.coef_)\n",
    "print('Intercepción:', regression_model.intercept_)\n",
    "print('Errorcuadratico medio :',mse)\n",
    "print('Raiz del error cuadratico medio: ', rmse)\n",
    "print(' Coeficiente de determinacion R2 : ', r2)"
   ]
  },
  {
   "cell_type": "code",
   "execution_count": 10,
   "metadata": {
    "scrolled": true
   },
   "outputs": [
    {
     "name": "stdout",
     "output_type": "stream",
     "text": [
      "0.3180446978880407\n",
      "               A         B        C\n",
      "0   2.258040e-32  45.32733  0.31478\n",
      "1   1.946127e-35  44.51848  0.07224\n",
      "2   6.832871e-19  44.32612  0.01430\n",
      "3   5.096099e-18  44.69770  0.00526\n",
      "4   2.913186e-61  44.30242  0.01505\n",
      "..           ...       ...      ...\n",
      "74  1.195085e-21  44.78145  0.09942\n",
      "75  4.059139e-37  44.77507  0.07369\n",
      "76  9.200405e-24  44.36424  0.00708\n",
      "77  3.073257e-41  44.17580  0.04911\n",
      "78  9.714517e-49  44.40151  0.00523\n",
      "\n",
      "[78 rows x 3 columns]\n"
     ]
    }
   ],
   "source": [
    "data=pd.read_csv('MA_G.csv',header=0,)\n",
    "data = data.dropna(how='any')#quita los valores nan del documento\n",
    "y=data.iloc[:,0]\n",
    "z=data.iloc[:,2]\n",
    "x=data.iloc[:,1]\n",
    "\n",
    "print(stats.stdev(x))\n",
    "print(data)"
   ]
  },
  {
   "cell_type": "code",
   "execution_count": 11,
   "metadata": {},
   "outputs": [
    {
     "data": {
      "text/html": [
       "<div>\n",
       "<style scoped>\n",
       "    .dataframe tbody tr th:only-of-type {\n",
       "        vertical-align: middle;\n",
       "    }\n",
       "\n",
       "    .dataframe tbody tr th {\n",
       "        vertical-align: top;\n",
       "    }\n",
       "\n",
       "    .dataframe thead th {\n",
       "        text-align: right;\n",
       "    }\n",
       "</style>\n",
       "<table border=\"1\" class=\"dataframe\">\n",
       "  <thead>\n",
       "    <tr style=\"text-align: right;\">\n",
       "      <th></th>\n",
       "      <th>A</th>\n",
       "      <th>B</th>\n",
       "      <th>C</th>\n",
       "    </tr>\n",
       "  </thead>\n",
       "  <tbody>\n",
       "    <tr>\n",
       "      <th>count</th>\n",
       "      <td>7.800000e+01</td>\n",
       "      <td>78.000000</td>\n",
       "      <td>78.000000</td>\n",
       "    </tr>\n",
       "    <tr>\n",
       "      <th>mean</th>\n",
       "      <td>2.932790e-01</td>\n",
       "      <td>44.592258</td>\n",
       "      <td>0.053390</td>\n",
       "    </tr>\n",
       "    <tr>\n",
       "      <th>std</th>\n",
       "      <td>2.039295e+00</td>\n",
       "      <td>0.318045</td>\n",
       "      <td>0.057278</td>\n",
       "    </tr>\n",
       "    <tr>\n",
       "      <th>min</th>\n",
       "      <td>2.122387e-82</td>\n",
       "      <td>44.084260</td>\n",
       "      <td>0.001460</td>\n",
       "    </tr>\n",
       "    <tr>\n",
       "      <th>25%</th>\n",
       "      <td>1.023269e-37</td>\n",
       "      <td>44.331250</td>\n",
       "      <td>0.014015</td>\n",
       "    </tr>\n",
       "    <tr>\n",
       "      <th>50%</th>\n",
       "      <td>2.340090e-28</td>\n",
       "      <td>44.565380</td>\n",
       "      <td>0.033590</td>\n",
       "    </tr>\n",
       "    <tr>\n",
       "      <th>75%</th>\n",
       "      <td>3.371341e-22</td>\n",
       "      <td>44.795455</td>\n",
       "      <td>0.070902</td>\n",
       "    </tr>\n",
       "    <tr>\n",
       "      <th>max</th>\n",
       "      <td>1.715112e+01</td>\n",
       "      <td>45.679790</td>\n",
       "      <td>0.314780</td>\n",
       "    </tr>\n",
       "  </tbody>\n",
       "</table>\n",
       "</div>"
      ],
      "text/plain": [
       "                  A          B          C\n",
       "count  7.800000e+01  78.000000  78.000000\n",
       "mean   2.932790e-01  44.592258   0.053390\n",
       "std    2.039295e+00   0.318045   0.057278\n",
       "min    2.122387e-82  44.084260   0.001460\n",
       "25%    1.023269e-37  44.331250   0.014015\n",
       "50%    2.340090e-28  44.565380   0.033590\n",
       "75%    3.371341e-22  44.795455   0.070902\n",
       "max    1.715112e+01  45.679790   0.314780"
      ]
     },
     "execution_count": 11,
     "metadata": {},
     "output_type": "execute_result"
    }
   ],
   "source": [
    "data.describe()"
   ]
  },
  {
   "cell_type": "code",
   "execution_count": 16,
   "metadata": {},
   "outputs": [
    {
     "data": {
      "image/png": "[encoded data removed]",
      "text/plain": [
       "<Figure size 432x288 with 2 Axes>"
      ]
     },
     "metadata": {
      "needs_background": "light"
     },
     "output_type": "display_data"
    }
   ],
   "source": [
    "corr = data.set_index('C').corr()\n",
    "sm.graphics.plot_corr(corr, xnames=list(corr.columns))\n",
    "plt.show()"
   ]
  },
  {
   "cell_type": "code",
   "execution_count": 13,
   "metadata": {},
   "outputs": [
    {
     "name": "stdout",
     "output_type": "stream",
     "text": [
      "pendiente b1  1.3529824182828363\n",
      "intercepción b0 is -60.03926219425225\n"
     ]
    },
    {
     "data": {
      "image/png": "[encoded data removed]",
      "text/plain": [
       "<Figure size 432x288 with 1 Axes>"
      ]
     },
     "metadata": {
      "needs_background": "light"
     },
     "output_type": "display_data"
    }
   ],
   "source": [
    "n = np.size(x)\n",
    "x_mean = np.mean(x)\n",
    "y_mean = np.mean(y)\n",
    "x_mean,y_mean\n",
    "  \n",
    "Sxy = np.sum(x*y)- n*x_mean*y_mean\n",
    "Sxx = np.sum(x*x)-n*x_mean*x_mean\n",
    "  \n",
    "b1 = Sxy/Sxx\n",
    "b0 = y_mean-b1*x_mean\n",
    "print('pendiente b1 ', b1)\n",
    "print('intercepción b0 is', b0)\n",
    "  \n",
    "plt.scatter(x,y)\n",
    "xerror = z\n",
    "plt.errorbar(x,y,xerr=xerror, fmt = ' ' , ecolor='blue')\n",
    "plt.title(\"Luminosidad_5100\")\n",
    "\n",
    "y_pred = b1 * x + b0\n",
    "  \n",
    "plt.scatter(x, y, color = 'red')\n",
    "plt.plot(x, y_pred, color = 'green')\n",
    "plt.xlabel('erg/seg')\n",
    "plt.ylabel('ma_G')\n",
    "plt.savefig(\"Luminosidad_5100_ma_G.pdf\")"
   ]
  },
  {
   "cell_type": "code",
   "execution_count": 17,
   "metadata": {
    "scrolled": true
   },
   "outputs": [
    {
     "name": "stderr",
     "output_type": "stream",
     "text": [
      "/home/didier/.local/lib/python3.6/site-packages/seaborn/distributions.py:2557: FutureWarning: `distplot` is a deprecated function and will be removed in a future version. Please adapt your code to use either `displot` (a figure-level function with similar flexibility) or `histplot` (an axes-level function for histograms).\n",
      "  warnings.warn(msg, FutureWarning)\n"
     ]
    },
    {
     "data": {
      "text/plain": [
       "Text(0.5, 0, 'erg/seg')"
      ]
     },
     "execution_count": 17,
     "metadata": {},
     "output_type": "execute_result"
    },
    {
     "data": {
      "image/png": "[encoded data removed]",
      "text/plain": [
       "<Figure size 1080x720 with 1 Axes>"
      ]
     },
     "metadata": {
      "needs_background": "light"
     },
     "output_type": "display_data"
    }
   ],
   "source": [
    "plt.figure(figsize=(15,10))\n",
    "plt.tight_layout()\n",
    "seabornInstance.distplot(data['B'])\n",
    "plt.xlabel('erg/seg')"
   ]
  },
  {
   "cell_type": "code",
   "execution_count": 18,
   "metadata": {},
   "outputs": [
    {
     "name": "stdout",
     "output_type": "stream",
     "text": [
      "Pendiente : [[1.35298242]\n",
      " [1.        ]]\n",
      "Intercepción: [-6.00392622e+01  7.10542736e-15]\n",
      "Errorcuadratico medio : 1.9613070318459904\n",
      "Raiz del error cuadratico medio:  1.400466719292533\n",
      " Coeficiente de determinacion R2 :  0.5222623318743052\n"
     ]
    }
   ],
   "source": [
    "x=np.array(data.iloc[:,1:-1])\n",
    "y=np.array(data.iloc[:,:-1])\n",
    "x = x.reshape(-1,1)\n",
    "regression_model = LinearRegression()\n",
    "regression_model.fit(x, y)\n",
    "y_predicted = regression_model.predict(x)\n",
    "mse=mean_squared_error(y,y_predicted)\n",
    "rmse = np.sqrt(mean_squared_error(y, y_predicted))\n",
    "r2 = r2_score(y, y_predicted)\n",
    "print('Pendiente :' ,regression_model.coef_)\n",
    "print('Intercepción:', regression_model.intercept_)\n",
    "print('Errorcuadratico medio :',mse)\n",
    "print('Raiz del error cuadratico medio: ', rmse)\n",
    "print(' Coeficiente de determinacion R2 : ', r2)"
   ]
  },
  {
   "cell_type": "code",
   "execution_count": 19,
   "metadata": {},
   "outputs": [
    {
     "name": "stdout",
     "output_type": "stream",
     "text": [
      "0.31535848075411527\n",
      "               A         B        C\n",
      "0   1.321420e-47  45.32733  0.31478\n",
      "1   3.119869e-75  44.51848  0.07224\n",
      "2   1.569205e-16  44.32612  0.01430\n",
      "3   1.873784e-23  44.69770  0.00526\n",
      "4   3.556592e-20  44.30242  0.01505\n",
      "..           ...       ...      ...\n",
      "79  1.208600e-46  44.20654  0.02390\n",
      "80  5.288202e-24  44.59746  0.00671\n",
      "81  9.504214e-45  44.17015  0.06091\n",
      "82  1.666591e-33  44.31297  0.01773\n",
      "83  5.765731e-14  44.52867  0.01500\n",
      "\n",
      "[83 rows x 3 columns]\n"
     ]
    }
   ],
   "source": [
    "data=pd.read_csv('MA_R.csv',header=0,)\n",
    "data = data.dropna(how='any')#quita los valores nan del documento\n",
    "y=data.iloc[:,0]\n",
    "z=data.iloc[:,2]\n",
    "x=data.iloc[:,1]\n",
    "\n",
    "print(stats.stdev(x))\n",
    "print(data)"
   ]
  },
  {
   "cell_type": "code",
   "execution_count": 20,
   "metadata": {},
   "outputs": [
    {
     "data": {
      "text/html": [
       "<div>\n",
       "<style scoped>\n",
       "    .dataframe tbody tr th:only-of-type {\n",
       "        vertical-align: middle;\n",
       "    }\n",
       "\n",
       "    .dataframe tbody tr th {\n",
       "        vertical-align: top;\n",
       "    }\n",
       "\n",
       "    .dataframe thead th {\n",
       "        text-align: right;\n",
       "    }\n",
       "</style>\n",
       "<table border=\"1\" class=\"dataframe\">\n",
       "  <thead>\n",
       "    <tr style=\"text-align: right;\">\n",
       "      <th></th>\n",
       "      <th>A</th>\n",
       "      <th>B</th>\n",
       "      <th>C</th>\n",
       "    </tr>\n",
       "  </thead>\n",
       "  <tbody>\n",
       "    <tr>\n",
       "      <th>count</th>\n",
       "      <td>8.300000e+01</td>\n",
       "      <td>83.000000</td>\n",
       "      <td>83.000000</td>\n",
       "    </tr>\n",
       "    <tr>\n",
       "      <th>mean</th>\n",
       "      <td>8.113111e-04</td>\n",
       "      <td>44.580036</td>\n",
       "      <td>0.053406</td>\n",
       "    </tr>\n",
       "    <tr>\n",
       "      <th>std</th>\n",
       "      <td>7.244331e-03</td>\n",
       "      <td>0.315358</td>\n",
       "      <td>0.057101</td>\n",
       "    </tr>\n",
       "    <tr>\n",
       "      <th>min</th>\n",
       "      <td>3.119869e-75</td>\n",
       "      <td>44.084260</td>\n",
       "      <td>0.001460</td>\n",
       "    </tr>\n",
       "    <tr>\n",
       "      <th>25%</th>\n",
       "      <td>4.869785e-39</td>\n",
       "      <td>44.324415</td>\n",
       "      <td>0.014285</td>\n",
       "    </tr>\n",
       "    <tr>\n",
       "      <th>50%</th>\n",
       "      <td>2.304785e-26</td>\n",
       "      <td>44.549210</td>\n",
       "      <td>0.032770</td>\n",
       "    </tr>\n",
       "    <tr>\n",
       "      <th>75%</th>\n",
       "      <td>1.729282e-19</td>\n",
       "      <td>44.783135</td>\n",
       "      <td>0.069565</td>\n",
       "    </tr>\n",
       "    <tr>\n",
       "      <th>max</th>\n",
       "      <td>6.600274e-02</td>\n",
       "      <td>45.679790</td>\n",
       "      <td>0.314780</td>\n",
       "    </tr>\n",
       "  </tbody>\n",
       "</table>\n",
       "</div>"
      ],
      "text/plain": [
       "                  A          B          C\n",
       "count  8.300000e+01  83.000000  83.000000\n",
       "mean   8.113111e-04  44.580036   0.053406\n",
       "std    7.244331e-03   0.315358   0.057101\n",
       "min    3.119869e-75  44.084260   0.001460\n",
       "25%    4.869785e-39  44.324415   0.014285\n",
       "50%    2.304785e-26  44.549210   0.032770\n",
       "75%    1.729282e-19  44.783135   0.069565\n",
       "max    6.600274e-02  45.679790   0.314780"
      ]
     },
     "execution_count": 20,
     "metadata": {},
     "output_type": "execute_result"
    }
   ],
   "source": [
    "data.describe()"
   ]
  },
  {
   "cell_type": "code",
   "execution_count": 21,
   "metadata": {},
   "outputs": [
    {
     "data": {
      "image/png": "[encoded data removed]",
      "text/plain": [
       "<Figure size 432x288 with 2 Axes>"
      ]
     },
     "metadata": {
      "needs_background": "light"
     },
     "output_type": "display_data"
    }
   ],
   "source": [
    "corr = data.set_index('C').corr()\n",
    "sm.graphics.plot_corr(corr, xnames=list(corr.columns))\n",
    "plt.show()"
   ]
  },
  {
   "cell_type": "code",
   "execution_count": 22,
   "metadata": {},
   "outputs": [
    {
     "name": "stdout",
     "output_type": "stream",
     "text": [
      "pendiente b1  0.0026853844513682014\n",
      "intercepción b0 is -0.11890322313736906\n"
     ]
    },
    {
     "data": {
      "image/png": "[encoded data removed]",
      "text/plain": [
       "<Figure size 432x288 with 1 Axes>"
      ]
     },
     "metadata": {
      "needs_background": "light"
     },
     "output_type": "display_data"
    }
   ],
   "source": [
    "n = np.size(x)\n",
    "x_mean = np.mean(x)\n",
    "y_mean = np.mean(y)\n",
    "x_mean,y_mean\n",
    "  \n",
    "Sxy = np.sum(x*y)- n*x_mean*y_mean\n",
    "Sxx = np.sum(x*x)-n*x_mean*x_mean\n",
    "  \n",
    "b1 = Sxy/Sxx\n",
    "b0 = y_mean-b1*x_mean\n",
    "print('pendiente b1 ', b1)\n",
    "print('intercepción b0 is', b0)\n",
    "  \n",
    "plt.scatter(x,y)\n",
    "xerror = z\n",
    "plt.errorbar(x,y,xerr=xerror, fmt = ' ' , ecolor='blue')\n",
    "plt.title(\"Luminosidad_5100\")\n",
    "\n",
    "y_pred = b1 * x + b0\n",
    "  \n",
    "plt.scatter(x, y, color = 'red')\n",
    "plt.plot(x, y_pred, color = 'green')\n",
    "plt.xlabel('erg/seg')\n",
    "plt.ylabel('ma_R')\n",
    "plt.savefig(\"Luminosidad_5100_ma_R.pdf\")"
   ]
  },
  {
   "cell_type": "code",
   "execution_count": 23,
   "metadata": {},
   "outputs": [
    {
     "name": "stderr",
     "output_type": "stream",
     "text": [
      "/home/didier/.local/lib/python3.6/site-packages/seaborn/distributions.py:2557: FutureWarning: `distplot` is a deprecated function and will be removed in a future version. Please adapt your code to use either `displot` (a figure-level function with similar flexibility) or `histplot` (an axes-level function for histograms).\n",
      "  warnings.warn(msg, FutureWarning)\n"
     ]
    },
    {
     "data": {
      "text/plain": [
       "Text(0.5, 0, 'erg/seg')"
      ]
     },
     "execution_count": 23,
     "metadata": {},
     "output_type": "execute_result"
    },
    {
     "data": {
      "image/png": "[encoded data removed]",
      "text/plain": [
       "<Figure size 1080x720 with 1 Axes>"
      ]
     },
     "metadata": {
      "needs_background": "light"
     },
     "output_type": "display_data"
    }
   ],
   "source": [
    "plt.figure(figsize=(15,10))\n",
    "plt.tight_layout()\n",
    "seabornInstance.distplot(data['B'])\n",
    "plt.xlabel('erg/seg')"
   ]
  },
  {
   "cell_type": "code",
   "execution_count": 24,
   "metadata": {},
   "outputs": [
    {
     "name": "stdout",
     "output_type": "stream",
     "text": [
      "Pendiente : [[0.00268538]\n",
      " [1.        ]]\n",
      "Intercepción: [-1.18903223e-01  7.10542736e-15]\n",
      "Errorcuadratico medio : 2.5569751347528382e-05\n",
      "Raiz del error cuadratico medio:  0.005056654165308162\n",
      " Coeficiente de determinacion R2 :  0.5068327488612892\n"
     ]
    }
   ],
   "source": [
    "x=np.array(data.iloc[:,1:-1])\n",
    "y=np.array(data.iloc[:,:-1])\n",
    "x = x.reshape(-1,1)\n",
    "regression_model = LinearRegression()\n",
    "regression_model.fit(x, y)\n",
    "y_predicted = regression_model.predict(x)\n",
    "mse=mean_squared_error(y,y_predicted)\n",
    "rmse = np.sqrt(mean_squared_error(y, y_predicted))\n",
    "r2 = r2_score(y, y_predicted)\n",
    "print('Pendiente :' ,regression_model.coef_)\n",
    "print('Intercepción:', regression_model.intercept_)\n",
    "print('Errorcuadratico medio :',mse)\n",
    "print('Raiz del error cuadratico medio: ', rmse)\n",
    "print(' Coeficiente de determinacion R2 : ', r2)"
   ]
  },
  {
   "cell_type": "code",
   "execution_count": 25,
   "metadata": {},
   "outputs": [
    {
     "name": "stdout",
     "output_type": "stream",
     "text": [
      "0.2983432323274103\n",
      "               A         B        C\n",
      "0   2.559298e-39  45.32733  0.31478\n",
      "1   5.874771e-33  44.51848  0.07224\n",
      "2   5.374588e-14  44.32612  0.01430\n",
      "3   3.740092e-22  44.69770  0.00526\n",
      "5   9.751131e-15  44.83574  0.05485\n",
      "..           ...       ...      ...\n",
      "76  9.365095e-46  44.36424  0.00708\n",
      "77  1.881692e-38  44.17580  0.04911\n",
      "78  6.295043e-41  44.40151  0.00523\n",
      "79  3.752484e-32  44.20654  0.02390\n",
      "80  1.362047e-06  44.59746  0.00671\n",
      "\n",
      "[75 rows x 3 columns]\n"
     ]
    }
   ],
   "source": [
    "data=pd.read_csv('MA_I.csv',header=0,)\n",
    "data = data.dropna(how='any')#quita los valores nan del documento\n",
    "y=data.iloc[:,0]\n",
    "z=data.iloc[:,2]\n",
    "x=data.iloc[:,1]\n",
    "\n",
    "print(stats.stdev(x))\n",
    "print(data)"
   ]
  },
  {
   "cell_type": "code",
   "execution_count": 26,
   "metadata": {},
   "outputs": [
    {
     "data": {
      "text/html": [
       "<div>\n",
       "<style scoped>\n",
       "    .dataframe tbody tr th:only-of-type {\n",
       "        vertical-align: middle;\n",
       "    }\n",
       "\n",
       "    .dataframe tbody tr th {\n",
       "        vertical-align: top;\n",
       "    }\n",
       "\n",
       "    .dataframe thead th {\n",
       "        text-align: right;\n",
       "    }\n",
       "</style>\n",
       "<table border=\"1\" class=\"dataframe\">\n",
       "  <thead>\n",
       "    <tr style=\"text-align: right;\">\n",
       "      <th></th>\n",
       "      <th>A</th>\n",
       "      <th>B</th>\n",
       "      <th>C</th>\n",
       "    </tr>\n",
       "  </thead>\n",
       "  <tbody>\n",
       "    <tr>\n",
       "      <th>count</th>\n",
       "      <td>7.500000e+01</td>\n",
       "      <td>75.000000</td>\n",
       "      <td>75.000000</td>\n",
       "    </tr>\n",
       "    <tr>\n",
       "      <th>mean</th>\n",
       "      <td>3.639071e+08</td>\n",
       "      <td>44.577739</td>\n",
       "      <td>0.055674</td>\n",
       "    </tr>\n",
       "    <tr>\n",
       "      <th>std</th>\n",
       "      <td>3.151528e+09</td>\n",
       "      <td>0.298343</td>\n",
       "      <td>0.059344</td>\n",
       "    </tr>\n",
       "    <tr>\n",
       "      <th>min</th>\n",
       "      <td>3.395079e-64</td>\n",
       "      <td>44.084260</td>\n",
       "      <td>0.001460</td>\n",
       "    </tr>\n",
       "    <tr>\n",
       "      <th>25%</th>\n",
       "      <td>1.513115e-40</td>\n",
       "      <td>44.328685</td>\n",
       "      <td>0.013105</td>\n",
       "    </tr>\n",
       "    <tr>\n",
       "      <th>50%</th>\n",
       "      <td>4.112287e-29</td>\n",
       "      <td>44.560430</td>\n",
       "      <td>0.032770</td>\n",
       "    </tr>\n",
       "    <tr>\n",
       "      <th>75%</th>\n",
       "      <td>3.321987e-17</td>\n",
       "      <td>44.791910</td>\n",
       "      <td>0.077220</td>\n",
       "    </tr>\n",
       "    <tr>\n",
       "      <th>max</th>\n",
       "      <td>2.729303e+10</td>\n",
       "      <td>45.327330</td>\n",
       "      <td>0.314780</td>\n",
       "    </tr>\n",
       "  </tbody>\n",
       "</table>\n",
       "</div>"
      ],
      "text/plain": [
       "                  A          B          C\n",
       "count  7.500000e+01  75.000000  75.000000\n",
       "mean   3.639071e+08  44.577739   0.055674\n",
       "std    3.151528e+09   0.298343   0.059344\n",
       "min    3.395079e-64  44.084260   0.001460\n",
       "25%    1.513115e-40  44.328685   0.013105\n",
       "50%    4.112287e-29  44.560430   0.032770\n",
       "75%    3.321987e-17  44.791910   0.077220\n",
       "max    2.729303e+10  45.327330   0.314780"
      ]
     },
     "execution_count": 26,
     "metadata": {},
     "output_type": "execute_result"
    }
   ],
   "source": [
    "data.describe()"
   ]
  },
  {
   "cell_type": "code",
   "execution_count": 27,
   "metadata": {},
   "outputs": [
    {
     "data": {
      "image/png": "[encoded data removed]",
      "text/plain": [
       "<Figure size 432x288 with 2 Axes>"
      ]
     },
     "metadata": {
      "needs_background": "light"
     },
     "output_type": "display_data"
    }
   ],
   "source": [
    "corr = data.set_index('C').corr()\n",
    "sm.graphics.plot_corr(corr, xnames=list(corr.columns))\n",
    "plt.show()"
   ]
  },
  {
   "cell_type": "code",
   "execution_count": 20,
   "metadata": {
    "scrolled": false
   },
   "outputs": [
    {
     "name": "stdout",
     "output_type": "stream",
     "text": [
      "pendiente b1  817680039.7248417\n",
      "intercepción b0 is -36086420176.14872\n"
     ]
    },
    {
     "data": {
      "image/png": "[encoded data removed]",
      "text/plain": [
       "<Figure size 432x288 with 1 Axes>"
      ]
     },
     "metadata": {
      "needs_background": "light"
     },
     "output_type": "display_data"
    }
   ],
   "source": [
    "n = np.size(x)\n",
    "x_mean = np.mean(x)\n",
    "y_mean = np.mean(y)\n",
    "x_mean,y_mean\n",
    "  \n",
    "Sxy = np.sum(x*y)- n*x_mean*y_mean\n",
    "Sxx = np.sum(x*x)-n*x_mean*x_mean\n",
    "  \n",
    "b1 = Sxy/Sxx\n",
    "b0 = y_mean-b1*x_mean\n",
    "print('pendiente b1 ', b1)\n",
    "print('intercepción b0 is', b0)\n",
    "  \n",
    "plt.scatter(x,y)\n",
    "xerror = z\n",
    "plt.errorbar(x,y,xerr=xerror, fmt = ' ' , ecolor='blue')\n",
    "plt.title(\"Luminosidad_5100\")\n",
    "\n",
    "y_pred = b1 * x + b0\n",
    "  \n",
    "plt.scatter(x, y, color = 'red')\n",
    "plt.plot(x, y_pred, color = 'green')\n",
    "plt.xlabel('erg/seg')\n",
    "plt.ylabel('ma_I')\n",
    "plt.savefig(\"Luminosidad_5100_ma_I.pdf\")"
   ]
  },
  {
   "cell_type": "code",
   "execution_count": 29,
   "metadata": {},
   "outputs": [
    {
     "name": "stderr",
     "output_type": "stream",
     "text": [
      "/home/didier/.local/lib/python3.6/site-packages/seaborn/distributions.py:2557: FutureWarning: `distplot` is a deprecated function and will be removed in a future version. Please adapt your code to use either `displot` (a figure-level function with similar flexibility) or `histplot` (an axes-level function for histograms).\n",
      "  warnings.warn(msg, FutureWarning)\n"
     ]
    },
    {
     "data": {
      "text/plain": [
       "Text(0.5, 0, 'erg/seg')"
      ]
     },
     "execution_count": 29,
     "metadata": {},
     "output_type": "execute_result"
    },
    {
     "data": {
      "image/png": "[encoded data removed]",
      "text/plain": [
       "<Figure size 1080x720 with 1 Axes>"
      ]
     },
     "metadata": {
      "needs_background": "light"
     },
     "output_type": "display_data"
    }
   ],
   "source": [
    "plt.figure(figsize=(15,10))\n",
    "plt.tight_layout()\n",
    "seabornInstance.distplot(data['B'])\n",
    "plt.xlabel('erg/seg')\n"
   ]
  },
  {
   "cell_type": "code",
   "execution_count": 30,
   "metadata": {},
   "outputs": [
    {
     "name": "stdout",
     "output_type": "stream",
     "text": [
      "Pendiente : [[8.1768004e+08]\n",
      " [1.0000000e+00]]\n",
      "Intercepción: [-3.60864202e+10 -7.10542736e-15]\n",
      "Errorcuadratico medio : 4.870489907132898e+18\n",
      "Raiz del error cuadratico medio:  2206918645.3362746\n",
      " Coeficiente de determinacion R2 :  0.5029958975693338\n"
     ]
    }
   ],
   "source": [
    "x=np.array(data.iloc[:,1:-1])\n",
    "y=np.array(data.iloc[:,:-1])\n",
    "x = x.reshape(-1,1)\n",
    "regression_model = LinearRegression()\n",
    "regression_model.fit(x, y)\n",
    "y_predicted = regression_model.predict(x)\n",
    "mse=mean_squared_error(y,y_predicted)\n",
    "rmse = np.sqrt(mean_squared_error(y, y_predicted))\n",
    "r2 = r2_score(y, y_predicted)\n",
    "print('Pendiente :' ,regression_model.coef_)\n",
    "print('Intercepción:', regression_model.intercept_)\n",
    "print('Errorcuadratico medio :',mse)\n",
    "print('Raiz del error cuadratico medio: ', rmse)\n",
    "print(' Coeficiente de determinacion R2 : ', r2)"
   ]
  },
  {
   "cell_type": "code",
   "execution_count": 31,
   "metadata": {},
   "outputs": [
    {
     "name": "stdout",
     "output_type": "stream",
     "text": [
      "0.31649267477025095\n",
      "               A         B        C\n",
      "0   7.626508e-51  45.32733  0.31478\n",
      "1   7.157408e-20  44.51848  0.07224\n",
      "2   2.566714e+00  44.32612  0.01430\n",
      "3   1.685526e-02  44.69770  0.00526\n",
      "4   2.081561e-31  44.30242  0.01505\n",
      "..           ...       ...      ...\n",
      "72  2.886584e-21  45.05713  0.05654\n",
      "73  5.417949e-49  44.56043  0.21451\n",
      "74  4.384755e-46  44.78145  0.09942\n",
      "75  1.789820e-13  44.77507  0.07369\n",
      "76  1.490723e-02  44.36424  0.00708\n",
      "\n",
      "[76 rows x 3 columns]\n"
     ]
    }
   ],
   "source": [
    "data=pd.read_csv('MA_Z.csv',header=0,)\n",
    "data = data.dropna(how='any')#quita los valores nan del documento\n",
    "y=data.iloc[:,0]\n",
    "z=data.iloc[:,2]\n",
    "x=data.iloc[:,1]\n",
    "\n",
    "print(stats.stdev(x))\n",
    "print(data)"
   ]
  },
  {
   "cell_type": "code",
   "execution_count": 32,
   "metadata": {},
   "outputs": [
    {
     "data": {
      "text/html": [
       "<div>\n",
       "<style scoped>\n",
       "    .dataframe tbody tr th:only-of-type {\n",
       "        vertical-align: middle;\n",
       "    }\n",
       "\n",
       "    .dataframe tbody tr th {\n",
       "        vertical-align: top;\n",
       "    }\n",
       "\n",
       "    .dataframe thead th {\n",
       "        text-align: right;\n",
       "    }\n",
       "</style>\n",
       "<table border=\"1\" class=\"dataframe\">\n",
       "  <thead>\n",
       "    <tr style=\"text-align: right;\">\n",
       "      <th></th>\n",
       "      <th>A</th>\n",
       "      <th>B</th>\n",
       "      <th>C</th>\n",
       "    </tr>\n",
       "  </thead>\n",
       "  <tbody>\n",
       "    <tr>\n",
       "      <th>count</th>\n",
       "      <td>7.600000e+01</td>\n",
       "      <td>76.000000</td>\n",
       "      <td>76.000000</td>\n",
       "    </tr>\n",
       "    <tr>\n",
       "      <th>mean</th>\n",
       "      <td>9.109470e-02</td>\n",
       "      <td>44.602818</td>\n",
       "      <td>0.055705</td>\n",
       "    </tr>\n",
       "    <tr>\n",
       "      <th>std</th>\n",
       "      <td>5.375964e-01</td>\n",
       "      <td>0.316493</td>\n",
       "      <td>0.058882</td>\n",
       "    </tr>\n",
       "    <tr>\n",
       "      <th>min</th>\n",
       "      <td>1.136218e-58</td>\n",
       "      <td>44.084260</td>\n",
       "      <td>0.001460</td>\n",
       "    </tr>\n",
       "    <tr>\n",
       "      <th>25%</th>\n",
       "      <td>8.801528e-37</td>\n",
       "      <td>44.331250</td>\n",
       "      <td>0.014185</td>\n",
       "    </tr>\n",
       "    <tr>\n",
       "      <th>50%</th>\n",
       "      <td>1.456143e-28</td>\n",
       "      <td>44.582300</td>\n",
       "      <td>0.034470</td>\n",
       "    </tr>\n",
       "    <tr>\n",
       "      <th>75%</th>\n",
       "      <td>1.870180e-18</td>\n",
       "      <td>44.801447</td>\n",
       "      <td>0.075455</td>\n",
       "    </tr>\n",
       "    <tr>\n",
       "      <th>max</th>\n",
       "      <td>3.946495e+00</td>\n",
       "      <td>45.679790</td>\n",
       "      <td>0.314780</td>\n",
       "    </tr>\n",
       "  </tbody>\n",
       "</table>\n",
       "</div>"
      ],
      "text/plain": [
       "                  A          B          C\n",
       "count  7.600000e+01  76.000000  76.000000\n",
       "mean   9.109470e-02  44.602818   0.055705\n",
       "std    5.375964e-01   0.316493   0.058882\n",
       "min    1.136218e-58  44.084260   0.001460\n",
       "25%    8.801528e-37  44.331250   0.014185\n",
       "50%    1.456143e-28  44.582300   0.034470\n",
       "75%    1.870180e-18  44.801447   0.075455\n",
       "max    3.946495e+00  45.679790   0.314780"
      ]
     },
     "execution_count": 32,
     "metadata": {},
     "output_type": "execute_result"
    }
   ],
   "source": [
    "data.describe()"
   ]
  },
  {
   "cell_type": "code",
   "execution_count": 33,
   "metadata": {},
   "outputs": [
    {
     "data": {
      "image/png": "[encoded data removed]",
      "text/plain": [
       "<Figure size 432x288 with 2 Axes>"
      ]
     },
     "metadata": {
      "needs_background": "light"
     },
     "output_type": "display_data"
    }
   ],
   "source": [
    "corr = data.set_index('C').corr()\n",
    "sm.graphics.plot_corr(corr, xnames=list(corr.columns))\n",
    "plt.show()"
   ]
  },
  {
   "cell_type": "code",
   "execution_count": 34,
   "metadata": {},
   "outputs": [
    {
     "name": "stdout",
     "output_type": "stream",
     "text": [
      "pendiente b1  0.1323216137194062\n",
      "intercepción b0 is -5.810822176039794\n"
     ]
    },
    {
     "data": {
      "image/png": "[encoded data removed]",
      "text/plain": [
       "<Figure size 432x288 with 1 Axes>"
      ]
     },
     "metadata": {
      "needs_background": "light"
     },
     "output_type": "display_data"
    }
   ],
   "source": [
    "n = np.size(x)\n",
    "x_mean = np.mean(x)\n",
    "y_mean = np.mean(y)\n",
    "x_mean,y_mean\n",
    "  \n",
    "Sxy = np.sum(x*y)- n*x_mean*y_mean\n",
    "Sxx = np.sum(x*x)-n*x_mean*x_mean\n",
    "  \n",
    "b1 = Sxy/Sxx\n",
    "b0 = y_mean-b1*x_mean\n",
    "print('pendiente b1 ', b1)\n",
    "print('intercepción b0 is', b0)\n",
    "  \n",
    "plt.scatter(x,y)\n",
    "xerror = z\n",
    "plt.errorbar(x,y,xerr=xerror, fmt = ' ' , ecolor='blue')\n",
    "plt.title(\"Luminosidad_5100\")\n",
    "\n",
    "y_pred = b1 * x + b0\n",
    "  \n",
    "plt.scatter(x, y, color = 'red')\n",
    "plt.plot(x, y_pred, color = 'green')\n",
    "plt.xlabel('erg/seg')\n",
    "plt.ylabel('ma_Z')\n",
    "plt.savefig(\"Luminosidad_5100_ma_Z.pdf\")"
   ]
  },
  {
   "cell_type": "code",
   "execution_count": 35,
   "metadata": {},
   "outputs": [
    {
     "name": "stderr",
     "output_type": "stream",
     "text": [
      "/home/didier/.local/lib/python3.6/site-packages/seaborn/distributions.py:2557: FutureWarning: `distplot` is a deprecated function and will be removed in a future version. Please adapt your code to use either `displot` (a figure-level function with similar flexibility) or `histplot` (an axes-level function for histograms).\n",
      "  warnings.warn(msg, FutureWarning)\n"
     ]
    },
    {
     "data": {
      "text/plain": [
       "Text(0.5, 0, 'erg/seg')"
      ]
     },
     "execution_count": 35,
     "metadata": {},
     "output_type": "execute_result"
    },
    {
     "data": {
      "image/png": "[encoded data removed]",
      "text/plain": [
       "<Figure size 1080x720 with 1 Axes>"
      ]
     },
     "metadata": {
      "needs_background": "light"
     },
     "output_type": "display_data"
    }
   ],
   "source": [
    "plt.figure(figsize=(15,10))\n",
    "plt.tight_layout()\n",
    "seabornInstance.distplot(data['B'])\n",
    "plt.xlabel('erg/seg')"
   ]
  },
  {
   "cell_type": "code",
   "execution_count": 36,
   "metadata": {},
   "outputs": [
    {
     "name": "stdout",
     "output_type": "stream",
     "text": [
      "Pendiente : [[0.13232161]\n",
      " [1.        ]]\n",
      "Intercepción: [-5.81082218  0.        ]\n",
      "Errorcuadratico medio : 0.14173816113134063\n",
      "Raiz del error cuadratico medio:  0.37648128921812385\n",
      " Coeficiente de determinacion R2 :  0.5030342144629198\n"
     ]
    }
   ],
   "source": [
    "x=np.array(data.iloc[:,1:-1])\n",
    "y=np.array(data.iloc[:,:-1])\n",
    "x = x.reshape(-1,1)\n",
    "regression_model = LinearRegression()\n",
    "regression_model.fit(x, y)\n",
    "y_predicted = regression_model.predict(x)\n",
    "mse=mean_squared_error(y,y_predicted)\n",
    "rmse = np.sqrt(mean_squared_error(y, y_predicted))\n",
    "r2 = r2_score(y, y_predicted)\n",
    "print('Pendiente :' ,regression_model.coef_)\n",
    "print('Intercepción:', regression_model.intercept_)\n",
    "print('Errorcuadratico medio :',mse)\n",
    "print('Raiz del error cuadratico medio: ', rmse)\n",
    "print(' Coeficiente de determinacion R2 : ', r2)"
   ]
  }
 ],
 "metadata": {
  "kernelspec": {
   "display_name": "Python 3",
   "language": "python",
   "name": "python3"
  },
  "language_info": {
   "codemirror_mode": {
    "name": "ipython",
    "version": 3
   },
   "file_extension": ".py",
   "mimetype": "text/x-python",
   "name": "python",
   "nbconvert_exporter": "python",
   "pygments_lexer": "ipython3",
   "version": "3.6.9"
  }
 },
 "nbformat": 4,
 "nbformat_minor": 4
}
